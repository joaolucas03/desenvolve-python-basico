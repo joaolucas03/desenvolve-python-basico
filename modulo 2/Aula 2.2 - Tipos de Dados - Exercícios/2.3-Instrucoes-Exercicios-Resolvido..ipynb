{
 "cells": [
  {
   "cell_type": "markdown",
   "id": "1e200198",
   "metadata": {},
   "source": [
    "# Módulo 2\n",
    "\n",
    "## 2.3 Instruções e Expressões\n",
    "\n",
    "### Q1\n",
    "\n",
    "Faça um programa que armazene o valor de 20 reais de salário por hora de um trabalhador, e o número de 40 horas trabalhadas na semana. Com essas informações, calcule e imprima:\n",
    "- Salário semanal bruto\n",
    "- Valor descontado por semana INSS (10% do bruto)\n",
    "- Valor descontado por semana pelo sindicato (5% do bruto)\n",
    "- Salário semanal líquido (Bruto - Descontos)\n",
    "\n",
    "## Escreva e execute seu código aqui\n"
   ]
  },
  {
   "cell_type": "code",
   "execution_count": null,
   "id": "1845d65e",
   "metadata": {},
   "outputs": [],
   "source": [
    "# Q1\n",
    "salario_hora = 20\n",
    "horas_semana = 40\n",
    "\n",
    "salario_bruto = salario_hora * horas_semana\n",
    "inss = salario_bruto * 0.10\n",
    "sindicato = salario_bruto * 0.05\n",
    "salario_liquido = salario_bruto - (inss + sindicato)\n",
    "\n",
    "print(\"Salário semanal bruto: R$\", salario_bruto)\n",
    "print(\"Desconto INSS (10%): R$\", inss)\n",
    "print(\"Desconto Sindicato (5%): R$\", sindicato)\n",
    "print(\"Salário semanal líquido: R$\", salario_liquido)"
   ]
  },
  {
   "cell_type": "markdown",
   "id": "b8a670c1",
   "metadata": {},
   "source": [
    "### Q2\n",
    "\n",
    "Altere o programa anterior para a partir dos valores de horas trabalhadas por semana e salário por hora, calcular **em somente duas instruções**:\n",
    "- Salário semanal bruto\n",
    "- Salário semanal líquido com todos os descontos. Para a segunda instrução, realize todos os cálculos aritméticos em uma expressão composta.\n",
    "\n",
    "## Escreva e execute seu código aqui\n"
   ]
  },
  {
   "cell_type": "code",
   "execution_count": null,
   "id": "f7e590a6",
   "metadata": {},
   "outputs": [],
   "source": [
    "# Q2\n",
    "salario_hora = 20\n",
    "horas_semana = 40\n",
    "\n",
    "salario_bruto = salario_hora * horas_semana\n",
    "salario_liquido = salario_bruto - (salario_bruto * 0.10 + salario_bruto * 0.05)\n",
    "\n",
    "print(\"Salário semanal bruto: R$\", salario_bruto)\n",
    "print(\"Salário semanal líquido: R$\", salario_liquido)"
   ]
  },
  {
   "cell_type": "markdown",
   "id": "60b198bf",
   "metadata": {},
   "source": [
    "### Q3\n",
    "\n",
    "Você está desenvolvendo um software de conversão de moeda e precisa calcular o valor equivalente em yuan chinês a partir de uma quantia em real. A taxa de câmbio é de 0.69 BRL (real) para 1 CNY (yuan). Escreva um programa que define em uma variável uma quantia em reais (BRL) e calcula o valor equivalente em yuan (CNY). Imprima o resultado.\n",
    "\n",
    "## Escreva e execute seu código aqui\n"
   ]
  },
  {
   "cell_type": "code",
   "execution_count": null,
   "id": "9839b053",
   "metadata": {},
   "outputs": [],
   "source": [
    "# Q3\n",
    "reais = 100  # você pode alterar o valor aqui\n",
    "\n",
    "yuan = reais / 0.69\n",
    "\n",
    "print(f\"R$ {reais:.2f} equivalem a ¥ {yuan:.2f} (yuan chinês)\")"
   ]
  },
  {
   "cell_type": "markdown",
   "id": "6bb7cdc6",
   "metadata": {},
   "source": [
    "### Q4\n",
    "\n",
    "Você é um treinador de corrida e deseja calcular a velocidade média que um atleta precisa manter para completar a Maratona Internacional de São Silvestre, que tem uma distância total de 42.195 km. A fórmula para calcular a velocidade média ($v_{media}$) é dada por $v_{media} = \\frac{distancia}{tempo}$ . Escreva um programa em Python para calcular a velocidade média necessária para completar a maratona em 3 horas.\n",
    "\n",
    "**Calcule e imprima o resultado em metros/segundo**, ou seja, converta a distância de quilômetros para metros ($metro = km * 1000$) e a velocidade de horas para segundos ($segundo = hora * 3600$).\n",
    "\n",
    "## Escreva e execute seu código aqui\n"
   ]
  },
  {
   "cell_type": "code",
   "execution_count": null,
   "id": "e3a4c08f",
   "metadata": {},
   "outputs": [],
   "source": [
    "# Q4\n",
    "distancia_km = 42.195\n",
    "tempo_horas = 3\n",
    "\n",
    "distancia_metros = distancia_km * 1000\n",
    "tempo_segundos = tempo_horas * 3600\n",
    "\n",
    "v_media = distancia_metros / tempo_segundos\n",
    "\n",
    "print(f\"Velocidade média necessária: {v_media:.2f} m/s\")"
   ]
  }
 ],
 "metadata": {},
 "nbformat": 4,
 "nbformat_minor": 5
}
